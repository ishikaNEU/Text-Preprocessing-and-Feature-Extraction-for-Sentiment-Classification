
{
 "cells": [
  {
   "cell_type": "markdown",
   "metadata": {},
   "source": [
    "# Text Preprocessing and Feature Extraction\n",
    "\n",
    "In this notebook, we will walk through various text preprocessing techniques and feature extraction methods using TF-IDF."
   ]
  },
  {
   "cell_type": "code",
   "execution_count": null,
   "metadata": {},
   "outputs": [],
   "source": [
    "import pandas as pd\n",
    "from src.preprocessing import preprocess_text\n",
    "from src.feature_extraction import extract_tfidf_features\n",
    "from src.sentiment_classifier import train_classifier, evaluate_classifier\n",
    "\n",
    "# Load dataset\n",
    "df = pd.read_csv('data/imdb_reviews.csv')\n",
    "\n",
    "# Apply preprocessing\n",
    "df['cleaned_review'] = df['review'].apply(preprocess_text)\n",
    "\n",
    "# Extract TF-IDF features\n",
    "X_tfidf, vectorizer = extract_tfidf_features(df['cleaned_review'])\n",
    "y = df['sentiment']\n",
    "\n",
    "# Split into train and test sets\n",
    "from sklearn.model_selection import train_test_split\n",
    "X_train, X_test, y_train, y_test = train_test_split(X_tfidf, y, test_size=0.2, random_state=42)\n",
    "\n",
    "# Train the sentiment classifier\n",
    "model = train_classifier(X_train, y_train)\n",
    "\n",
    "# Evaluate the classifier\n",
    "accuracy, report = evaluate_classifier(model, X_test, y_test)\n",
    "print(f'Accuracy: {accuracy * 100:.2f}%')\n",
    "print(report)"
   ]
  }
 ],
 "metadata": {
  "kernelspec": {
   "display_name": "Python 3",
   "language": "python",
   "name": "python3"
  },
  "language_info": {
   "codemirror_mode": {
    "name": "ipython",
    "version": 3
   },
   "file_extension": ".py",
   "mimetype": "text/x-python",
   "name": "python",
   "nbconvert_exporter": "python",
   "version": "3.8.5"
  }
 },
 "nbformat": 4,
 "nbformat_minor": 4
}
